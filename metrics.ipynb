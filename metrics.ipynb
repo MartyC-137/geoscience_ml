{
 "cells": [
  {
   "cell_type": "code",
   "execution_count": 28,
   "id": "f4d97b16-93dc-4b1e-9d89-f7dd95afa41f",
   "metadata": {},
   "outputs": [],
   "source": [
    "import pandas as pd"
   ]
  },
  {
   "cell_type": "code",
   "execution_count": 29,
   "id": "17c20417-8744-44b4-8e01-37bc471b5500",
   "metadata": {},
   "outputs": [
    {
     "name": "stdout",
     "output_type": "stream",
     "text": [
      "(433, 41)\n"
     ]
    },
    {
     "data": {
      "text/html": [
       "<div>\n",
       "<style scoped>\n",
       "    .dataframe tbody tr th:only-of-type {\n",
       "        vertical-align: middle;\n",
       "    }\n",
       "\n",
       "    .dataframe tbody tr th {\n",
       "        vertical-align: top;\n",
       "    }\n",
       "\n",
       "    .dataframe thead th {\n",
       "        text-align: right;\n",
       "    }\n",
       "</style>\n",
       "<table border=\"1\" class=\"dataframe\">\n",
       "  <thead>\n",
       "    <tr style=\"text-align: right;\">\n",
       "      <th></th>\n",
       "      <th>Ag_ICP_PPB</th>\n",
       "      <th>As_ICP_PPM</th>\n",
       "      <th>Ba_ICP_PPM</th>\n",
       "      <th>Bi_ICP_PPM</th>\n",
       "      <th>Cd_ICP_PPM</th>\n",
       "      <th>Co_ICP_PPM</th>\n",
       "      <th>Cr_ICP_PPM</th>\n",
       "      <th>Cu_ICP_PPM</th>\n",
       "      <th>Ga_ICP_PPM</th>\n",
       "      <th>Hg_ICP_PPB</th>\n",
       "      <th>...</th>\n",
       "      <th>Na_ICP_PPM</th>\n",
       "      <th>P_ICP_PPM</th>\n",
       "      <th>S_ICP_PPM</th>\n",
       "      <th>Ti_ICP_PPM</th>\n",
       "      <th>Actual_Strat</th>\n",
       "      <th>Pred_Strat</th>\n",
       "      <th>Is_Equal</th>\n",
       "      <th>LAT</th>\n",
       "      <th>LONG</th>\n",
       "      <th>rock_type</th>\n",
       "    </tr>\n",
       "  </thead>\n",
       "  <tbody>\n",
       "    <tr>\n",
       "      <th>0</th>\n",
       "      <td>640.0</td>\n",
       "      <td>14.7</td>\n",
       "      <td>27.0</td>\n",
       "      <td>0.14</td>\n",
       "      <td>1.54</td>\n",
       "      <td>17.1</td>\n",
       "      <td>79.5</td>\n",
       "      <td>74.96</td>\n",
       "      <td>6.0</td>\n",
       "      <td>345.0</td>\n",
       "      <td>...</td>\n",
       "      <td>340.0</td>\n",
       "      <td>1200.0</td>\n",
       "      <td>9400.0</td>\n",
       "      <td>300.0</td>\n",
       "      <td>TrJTk</td>\n",
       "      <td>TrJTk</td>\n",
       "      <td>True</td>\n",
       "      <td>54.60844</td>\n",
       "      <td>-123.60911</td>\n",
       "      <td>basaltic volcanic rocks</td>\n",
       "    </tr>\n",
       "    <tr>\n",
       "      <th>1</th>\n",
       "      <td>10.0</td>\n",
       "      <td>6.7</td>\n",
       "      <td>53.0</td>\n",
       "      <td>-0.02</td>\n",
       "      <td>0.18</td>\n",
       "      <td>3.1</td>\n",
       "      <td>13.0</td>\n",
       "      <td>9.27</td>\n",
       "      <td>0.6</td>\n",
       "      <td>25.0</td>\n",
       "      <td>...</td>\n",
       "      <td>350.0</td>\n",
       "      <td>880.0</td>\n",
       "      <td>10400.0</td>\n",
       "      <td>80.0</td>\n",
       "      <td>MTrCc</td>\n",
       "      <td>MTrCc</td>\n",
       "      <td>True</td>\n",
       "      <td>53.85673</td>\n",
       "      <td>-123.86007</td>\n",
       "      <td>basaltic volcanic rocks</td>\n",
       "    </tr>\n",
       "    <tr>\n",
       "      <th>2</th>\n",
       "      <td>220.0</td>\n",
       "      <td>5.8</td>\n",
       "      <td>17.5</td>\n",
       "      <td>0.04</td>\n",
       "      <td>0.76</td>\n",
       "      <td>4.7</td>\n",
       "      <td>19.0</td>\n",
       "      <td>33.71</td>\n",
       "      <td>0.9</td>\n",
       "      <td>125.0</td>\n",
       "      <td>...</td>\n",
       "      <td>460.0</td>\n",
       "      <td>620.0</td>\n",
       "      <td>19600.0</td>\n",
       "      <td>80.0</td>\n",
       "      <td>LTQCh</td>\n",
       "      <td>CPSm</td>\n",
       "      <td>False</td>\n",
       "      <td>54.79845</td>\n",
       "      <td>-123.96966</td>\n",
       "      <td>basaltic volcanic rocks</td>\n",
       "    </tr>\n",
       "    <tr>\n",
       "      <th>3</th>\n",
       "      <td>380.0</td>\n",
       "      <td>3.9</td>\n",
       "      <td>186.5</td>\n",
       "      <td>0.06</td>\n",
       "      <td>1.89</td>\n",
       "      <td>3.8</td>\n",
       "      <td>48.5</td>\n",
       "      <td>44.27</td>\n",
       "      <td>2.4</td>\n",
       "      <td>170.0</td>\n",
       "      <td>...</td>\n",
       "      <td>320.0</td>\n",
       "      <td>1240.0</td>\n",
       "      <td>2600.0</td>\n",
       "      <td>80.0</td>\n",
       "      <td>TrJTk</td>\n",
       "      <td>TrJTk</td>\n",
       "      <td>True</td>\n",
       "      <td>54.10560</td>\n",
       "      <td>-123.28660</td>\n",
       "      <td>volcaniclastic rocks</td>\n",
       "    </tr>\n",
       "    <tr>\n",
       "      <th>4</th>\n",
       "      <td>160.0</td>\n",
       "      <td>2.9</td>\n",
       "      <td>37.5</td>\n",
       "      <td>0.04</td>\n",
       "      <td>0.60</td>\n",
       "      <td>2.9</td>\n",
       "      <td>179.5</td>\n",
       "      <td>17.28</td>\n",
       "      <td>1.6</td>\n",
       "      <td>35.0</td>\n",
       "      <td>...</td>\n",
       "      <td>260.0</td>\n",
       "      <td>310.0</td>\n",
       "      <td>7400.0</td>\n",
       "      <td>150.0</td>\n",
       "      <td>CPSm</td>\n",
       "      <td>CPSm</td>\n",
       "      <td>True</td>\n",
       "      <td>53.83163</td>\n",
       "      <td>-122.03880</td>\n",
       "      <td>basaltic volcanic rocks</td>\n",
       "    </tr>\n",
       "  </tbody>\n",
       "</table>\n",
       "<p>5 rows × 41 columns</p>\n",
       "</div>"
      ],
      "text/plain": [
       "   Ag_ICP_PPB  As_ICP_PPM  Ba_ICP_PPM  Bi_ICP_PPM  Cd_ICP_PPM  Co_ICP_PPM  \\\n",
       "0       640.0        14.7        27.0        0.14        1.54        17.1   \n",
       "1        10.0         6.7        53.0       -0.02        0.18         3.1   \n",
       "2       220.0         5.8        17.5        0.04        0.76         4.7   \n",
       "3       380.0         3.9       186.5        0.06        1.89         3.8   \n",
       "4       160.0         2.9        37.5        0.04        0.60         2.9   \n",
       "\n",
       "   Cr_ICP_PPM  Cu_ICP_PPM  Ga_ICP_PPM  Hg_ICP_PPB  ...  Na_ICP_PPM  P_ICP_PPM  \\\n",
       "0        79.5       74.96         6.0       345.0  ...       340.0     1200.0   \n",
       "1        13.0        9.27         0.6        25.0  ...       350.0      880.0   \n",
       "2        19.0       33.71         0.9       125.0  ...       460.0      620.0   \n",
       "3        48.5       44.27         2.4       170.0  ...       320.0     1240.0   \n",
       "4       179.5       17.28         1.6        35.0  ...       260.0      310.0   \n",
       "\n",
       "   S_ICP_PPM  Ti_ICP_PPM  Actual_Strat  Pred_Strat  Is_Equal       LAT  \\\n",
       "0     9400.0       300.0         TrJTk       TrJTk      True  54.60844   \n",
       "1    10400.0        80.0         MTrCc       MTrCc      True  53.85673   \n",
       "2    19600.0        80.0         LTQCh        CPSm     False  54.79845   \n",
       "3     2600.0        80.0         TrJTk       TrJTk      True  54.10560   \n",
       "4     7400.0       150.0          CPSm        CPSm      True  53.83163   \n",
       "\n",
       "        LONG                rock_type  \n",
       "0 -123.60911  basaltic volcanic rocks  \n",
       "1 -123.86007  basaltic volcanic rocks  \n",
       "2 -123.96966  basaltic volcanic rocks  \n",
       "3 -123.28660     volcaniclastic rocks  \n",
       "4 -122.03880  basaltic volcanic rocks  \n",
       "\n",
       "[5 rows x 41 columns]"
      ]
     },
     "execution_count": 29,
     "metadata": {},
     "output_type": "execute_result"
    }
   ],
   "source": [
    "df = pd.read_csv('quest_geo_unit_ml.csv')\n",
    "print(df.shape)\n",
    "df.head()"
   ]
  },
  {
   "cell_type": "code",
   "execution_count": 30,
   "id": "9c6a6269-4cca-47a8-a57e-eecb1811d836",
   "metadata": {},
   "outputs": [
    {
     "data": {
      "text/plain": [
       "True     315\n",
       "False    118\n",
       "Name: Is_Equal, dtype: int64"
      ]
     },
     "execution_count": 30,
     "metadata": {},
     "output_type": "execute_result"
    }
   ],
   "source": [
    "# df.groupby('STRAT')[['Cu_ICP_PPM']].sum().sort_values(by = 'Cu_ICP_PPM', ascending = False).head(10)\n",
    "# df['Is_Equal'].value_counts()\n",
    "df['Is_Equal'].value_counts()"
   ]
  },
  {
   "cell_type": "code",
   "execution_count": 31,
   "id": "bc90edd3-b788-4efd-9971-d0552a781f03",
   "metadata": {},
   "outputs": [
    {
     "data": {
      "text/plain": [
       "Pred_Strat\n",
       "CPSm        8\n",
       "KTpg       27\n",
       "LTQCh       3\n",
       "MTrCc      26\n",
       "TrJTk     249\n",
       "uTrJNc      2\n",
       "Name: Is_Equal, dtype: int64"
      ]
     },
     "execution_count": 31,
     "metadata": {},
     "output_type": "execute_result"
    }
   ],
   "source": [
    "df.groupby('Pred_Strat')['Is_Equal'].sum()"
   ]
  },
  {
   "cell_type": "code",
   "execution_count": 32,
   "id": "dc86dd9e-e1c7-4561-9117-93069afdeb89",
   "metadata": {},
   "outputs": [
    {
     "data": {
      "text/plain": [
       "Actual_Strat\n",
       "CPSm             21\n",
       "KTpg             61\n",
       "LTQCh            15\n",
       "MTrCc            49\n",
       "TrJTk           275\n",
       "uTrJNc           12\n",
       "dtype: int64"
      ]
     },
     "execution_count": 32,
     "metadata": {},
     "output_type": "execute_result"
    }
   ],
   "source": [
    "df[['Actual_Strat']].value_counts().sort_index()"
   ]
  },
  {
   "cell_type": "code",
   "execution_count": null,
   "id": "6039481f-1bc3-4a81-a4ce-49fd4f8a4e1f",
   "metadata": {},
   "outputs": [],
   "source": []
  }
 ],
 "metadata": {
  "kernelspec": {
   "display_name": "Python 3",
   "language": "python",
   "name": "python3"
  },
  "language_info": {
   "codemirror_mode": {
    "name": "ipython",
    "version": 3
   },
   "file_extension": ".py",
   "mimetype": "text/x-python",
   "name": "python",
   "nbconvert_exporter": "python",
   "pygments_lexer": "ipython3",
   "version": "3.8.8"
  }
 },
 "nbformat": 4,
 "nbformat_minor": 5
}
