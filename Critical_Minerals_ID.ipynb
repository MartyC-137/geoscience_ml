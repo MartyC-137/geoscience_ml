{
 "cells": [
  {
   "cell_type": "code",
   "execution_count": 4,
   "id": "eda20bea-b895-416e-9430-1d720d046680",
   "metadata": {},
   "outputs": [
    {
     "name": "stdout",
     "output_type": "stream",
     "text": [
      "The following analytes in our dataset are critical minerals:\n",
      " ['Al_ICP_PCT', 'Ga_ICP_PPM', 'Mo_ICP_PPM', 'Te_ICP_PPM', 'Sb_ICP_PPM', 'Ni_ICP_PPM', 'Bi_ICP_PPM', 'Ti_ICP_PCT', 'W_ICP_PPM', 'Cr_ICP_PPM', 'K_ICP_PCT', 'U_ICP_PPM', 'Co_ICP_PPM', 'V_ICP_PPM', 'Cu_ICP_PPM', 'Mg_ICP_PCT', 'Sc_ICP_PPM', 'Zn_ICP_PPM', 'Fe_ICP_PCT', 'Mn_ICP_PPM', 'La_ICP_PPM']\n"
     ]
    }
   ],
   "source": [
    "import pandas as pd\n",
    "df = pd.read_csv('litho-Table 1.csv', low_memory = False)\n",
    "df = df[df.columns[df.isnull().mean() < 0.25]]\n",
    "df = df.drop([col for col in df.columns if 'FA' in col or 'INA' in col or 'AAS' in col], \n",
    "             axis = 1) #drop analytes that aren't ICP-MS analysis\n",
    "df = df[['MASTERID', 'LAT', 'LONG',\n",
    "         'STRAT'] + [col for col in df.columns if 'ICP' in col]]\n",
    "\n",
    "# In this cell, I compile a list of the Canadian critical minerals by doing a basic web scrape. We'll compare this list\n",
    "# to what we have in the dataframe from open.canada.ca.\n",
    "\n",
    "# this webpage has a nice html table that I'll use, which is much easier to work with in Python. \n",
    "#upon visual comparison it's the same as the government list on https://www.nrcan.gc.ca/our-natural-resources/minerals-mining/critical-minerals/23414\n",
    "\n",
    "#scrape the table of critical minerals\n",
    "critical_minerals_df = pd.read_html('https://www.bennettjones.com/Blogs-Section/Canada-Announces-the-Critical-Minerals-List')[0]\n",
    "\n",
    "#create a list of the critical minerals from the webpage\n",
    "cm_list = []\n",
    "for i in range(len(critical_minerals_df)):\n",
    "    cm_list.extend(critical_minerals_df.values.tolist()[i])\n",
    "\n",
    "# typed out each elements symbol, which we will append to a dictionary shortly:\n",
    "element_abb = ['Al', 'Ga', 'Mo', 'Te', 'Sb', 'Ge', 'Ni', 'Sn', 'Bi',\n",
    "              'C', 'Ni', 'Ti', 'Ce', 'He', 'Pt', 'W', 'Cr', 'In', 'K', \n",
    "              'U', 'Co', 'Li', 'Ree', 'V', 'Cu', 'Mg', 'Sc', 'Zn', \n",
    "              'F', 'Mn', 'Ta']\n",
    "\n",
    "critical_minerals_dict = dict(zip(cm_list, element_abb))\n",
    "    \n",
    "#scrape rare earth elements to add to dictionary\n",
    "ree_df = pd.read_html('https://en.wikipedia.org/wiki/Rare-earth_element')[1]\n",
    "ree_df = ree_df[['Name', 'Symbol']]\n",
    "ree_dict = ree_df.set_index('Name').to_dict()['Symbol']\n",
    "\n",
    "#combine dictionaries\n",
    "critical_minerals_dict = {**critical_minerals_dict, **ree_dict}\n",
    "\n",
    "#create a list to compare to columns in our dataframe. If a column\n",
    "#matches a critical mineral, we keep the column\n",
    "cm_list = [v for i, v in critical_minerals_dict.items()]\n",
    "critical_minerals_dict.pop('Graphite', None) #The chemical formula for Graphite (C) causes issues for this program, so I delete it here\n",
    "# critical_minerals_dict\n",
    "# cm_list\n",
    "\n",
    "critical_minerals_list = []\n",
    "for value in critical_minerals_dict.values():\n",
    "    for column in df.columns:\n",
    "        if value in column:\n",
    "            if column not in critical_minerals_list:\n",
    "                critical_minerals_list.append(column)\n",
    "print('The following analytes in our dataset are critical minerals:\\n',critical_minerals_list)"
   ]
  }
 ],
 "metadata": {
  "kernelspec": {
   "display_name": "Python 3",
   "language": "python",
   "name": "python3"
  },
  "language_info": {
   "codemirror_mode": {
    "name": "ipython",
    "version": 3
   },
   "file_extension": ".py",
   "mimetype": "text/x-python",
   "name": "python",
   "nbconvert_exporter": "python",
   "pygments_lexer": "ipython3",
   "version": "3.8.8"
  }
 },
 "nbformat": 4,
 "nbformat_minor": 5
}
